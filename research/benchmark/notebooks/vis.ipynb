{
 "cells": [
  {
   "cell_type": "code",
   "execution_count": 1,
   "metadata": {},
   "outputs": [],
   "source": [
    "import os; os.chdir(\"../\")"
   ]
  },
  {
   "cell_type": "code",
   "execution_count": 2,
   "metadata": {},
   "outputs": [],
   "source": [
    "import pandas as pd\n",
    "import numpy as np\n",
    "import matplotlib.pyplot as plt"
   ]
  },
  {
   "cell_type": "code",
   "execution_count": 7,
   "metadata": {},
   "outputs": [
    {
     "name": "stdout",
     "output_type": "stream",
     "text": [
      "Dataset: Wine Quality, Model: xgb, Framework: pnpxai, Explainer: shap, ABPC: 0.06460812037523284, CMPX: 1.8191803300380707, CMPD: -0.31214957535266874\n",
      "Dataset: Wine Quality, Model: xgb, Framework: pnpxai, Explainer: lime, ABPC: 0.0558186315005878, CMPX: 0.6596412932872773, CMPD: -0.08727335512638092\n",
      "Dataset: Wine Quality, Model: xgb, Framework: omnixai, Explainer: shap, ABPC: 0.06542741584446049, CMPX: 1.7332260602298968, CMPD: -0.294303278028965\n",
      "Dataset: Wine Quality, Model: xgb, Framework: omnixai, Explainer: lime, ABPC: 0.044880455271959364, CMPX: 1.8059902090590791, CMPD: -0.32529367752373217\n",
      "Dataset: Wine Quality, Model: tab_resnet, Framework: pnpxai, Explainer: vg, ABPC: 0.034013718366622925, CMPX: 1.7201935052871704, CMPD: -0.3168277144432068\n",
      "Dataset: Wine Quality, Model: tab_resnet, Framework: pnpxai, Explainer: shap, ABPC: 0.1056765974353766, CMPX: 1.7822198235988618, CMPD: -0.27190269008278845\n",
      "Dataset: Wine Quality, Model: tab_resnet, Framework: pnpxai, Explainer: sg, ABPC: -0.03559304401278496, CMPX: 1.798652172088623, CMPD: -0.3882048726081848\n",
      "Dataset: Wine Quality, Model: tab_resnet, Framework: pnpxai, Explainer: itg, ABPC: 0.0, CMPX: 0.0, CMPD: 0.0\n",
      "Dataset: Wine Quality, Model: tab_resnet, Framework: pnpxai, Explainer: grad, ABPC: -0.009568325662403367, CMPX: 1.7201935052871704, CMPD: -0.37287887930870056\n",
      "Dataset: Wine Quality, Model: tab_resnet, Framework: pnpxai, Explainer: lime, ABPC: 0.08056310756132007, CMPX: 0.7298164424300194, CMPD: -0.0815128032118082\n",
      "Dataset: Wine Quality, Model: tab_resnet, Framework: pnpxai, Explainer: ig, ABPC: 0.1193992180004716, CMPX: 2.019814968109131, CMPD: -0.3442831039428711\n",
      "Dataset: Wine Quality, Model: tab_resnet, Framework: pnpxai, Explainer: lrp, ABPC: 0.03680378198623657, CMPX: 1.5941667556762695, CMPD: -0.28939032554626465\n",
      "Dataset: Wine Quality, Model: tab_resnet, Framework: openxai, Explainer: shap, ABPC: 0.12462404012680053, CMPX: 1.7170379149913788, CMPD: -0.24370835736393928\n",
      "Dataset: Wine Quality, Model: tab_resnet, Framework: openxai, Explainer: sg, ABPC: -0.00912669402983738, CMPX: 1.8766690516471862, CMPD: -0.38263517588377\n",
      "Dataset: Wine Quality, Model: tab_resnet, Framework: openxai, Explainer: itg, ABPC: 0.1193992180004716, CMPX: 1.7307261663675308, CMPD: -0.2506258637458086\n",
      "Dataset: Wine Quality, Model: tab_resnet, Framework: openxai, Explainer: grad, ABPC: -0.009568325662403367, CMPX: 1.866032017469406, CMPD: -0.38086107224225996\n",
      "Dataset: Wine Quality, Model: tab_resnet, Framework: openxai, Explainer: lime, ABPC: -0.009269564526766772, CMPX: 1.8810293793678283, CMPD: -0.3836215370893478\n",
      "Dataset: Wine Quality, Model: tab_resnet, Framework: openxai, Explainer: ig, ABPC: -0.007871283538843272, CMPX: 1.892229639876137, CMPD: -0.3847429548203945\n"
     ]
    }
   ],
   "source": [
    "record = []\n",
    "dfs = []\n",
    "for f in os.walk(\"results\"):\n",
    "    if len(f[-1]) > 0:\n",
    "        info = f[0]\n",
    "        if len(info.split(\"/\")) < 5:\n",
    "            continue\n",
    "        _, dataset, model, framework, explainer = info.split(\"/\")\n",
    "\n",
    "        abpc = np.load(info + \"/abpc.npy\").mean()\n",
    "        cmpx = np.load(info + \"/cmpx.npy\").mean()\n",
    "        cmpd = np.load(info + \"/cmpd.npy\").mean()\n",
    "        \n",
    "        record.append([dataset, model, framework, explainer, abpc, cmpx, cmpd])\n",
    "        print(f\"Dataset: {dataset}, Model: {model}, Framework: {framework}, Explainer: {explainer}, ABPC: {abpc}, CMPX: {cmpx}, CMPD: {cmpd}\")\n",
    "\n",
    "record = pd.DataFrame(record, columns=[\"dataset\", \"model\", \"framework\", \"explainer\", \"abpc\", \"cmpx\", \"cmpd\"])"
   ]
  },
  {
   "cell_type": "code",
   "execution_count": null,
   "metadata": {},
   "outputs": [
    {
     "name": "stdout",
     "output_type": "stream",
     "text": [
      "Dataset: Wine Quality, Model: xgb, Framework: omnixai, Explainer: shap, ABPC: 0.06542741584446049, CMPX: 1.7332260602298968, CMPD: -0.294303278028965\n",
      "Dataset: Wine Quality, Model: xgb, Framework: omnixai, Explainer: lime, ABPC: 0.044880455271959364, CMPX: 1.8059902090590791, CMPD: -0.32529367752373217\n",
      "Dataset: Wine Quality, Model: tab_resnet, Framework: openxai, Explainer: shap, ABPC: 0.12462404012680053, CMPX: 1.7170379149913788, CMPD: -0.24370835736393928\n",
      "Dataset: Wine Quality, Model: tab_resnet, Framework: openxai, Explainer: sg, ABPC: -0.00912669402983738, CMPX: 1.8766690516471862, CMPD: -0.38263517588377\n",
      "Dataset: Wine Quality, Model: tab_resnet, Framework: openxai, Explainer: itg, ABPC: 0.1193992180004716, CMPX: 1.7307261663675308, CMPD: -0.2506258637458086\n",
      "Dataset: Wine Quality, Model: tab_resnet, Framework: openxai, Explainer: grad, ABPC: -0.009568325662403367, CMPX: 1.866032017469406, CMPD: -0.38086107224225996\n",
      "Dataset: Wine Quality, Model: tab_resnet, Framework: openxai, Explainer: lime, ABPC: -0.009269564526766772, CMPX: 1.8810293793678283, CMPD: -0.3836215370893478\n",
      "Dataset: Wine Quality, Model: tab_resnet, Framework: openxai, Explainer: ig, ABPC: -0.007871283538843272, CMPX: 1.892229639876137, CMPD: -0.3847429548203945\n"
     ]
    }
   ],
   "source": [
    "# record = []\n",
    "# dfs = []\n",
    "# for f in os.walk(\"results\"):\n",
    "#     if len(f[-1]) > 0:\n",
    "#         info = f[0]\n",
    "#         if \"pnpxai\" in info:\n",
    "#             res = info.split(\"/\")\n",
    "#             if len(res) == 4:\n",
    "#                 _, dataset, model, framework = info.split(\"/\")\n",
    "#             else:\n",
    "#                 continue\n",
    "#         else:\n",
    "#             _, dataset, model, framework, explainer = info.split(\"/\")\n",
    "\n",
    "#         if framework == \"pnpxai\":\n",
    "#             df = pd.read_csv(info + \"/evaluation.csv\")\n",
    "#             df['dataset'] = dataset\n",
    "#             df['model'] = model\n",
    "#             df['framework'] = framework\n",
    "#             dfs.append(df)\n",
    "#         else:\n",
    "#             abpc = np.load(info + \"/abpc.npy\").mean()\n",
    "#             cmpx = np.load(info + \"/cmpx.npy\").mean()\n",
    "#             cmpd = np.load(info + \"/cmpd.npy\").mean()\n",
    "            \n",
    "#             record.append([dataset, model, framework, explainer, abpc, cmpx, cmpd])\n",
    "#             print(f\"Dataset: {dataset}, Model: {model}, Framework: {framework}, Explainer: {explainer}, ABPC: {abpc}, CMPX: {cmpx}, CMPD: {cmpd}\")\n",
    "\n",
    "# df = pd.concat(dfs, ignore_index=True).set_index(['dataset', 'model', 'framework', 'explainer', 'metric'])['value'].unstack().reset_index()\n",
    "# record = pd.DataFrame(record, columns=[\"dataset\", \"model\", \"framework\", \"explainer\", \"abpc\", \"cmpx\", \"cmpd\"])\n",
    "# record = pd.concat([record, df], axis=0).reset_index(drop=True)"
   ]
  },
  {
   "cell_type": "code",
   "execution_count": 8,
   "metadata": {},
   "outputs": [],
   "source": [
    "EXP_MAP = {\n",
    "    \"shap\" : \"KernelSHAP\",\n",
    "    \"kernel_shap\" : \"KernelSHAP\",\n",
    "    \"lime\" : \"LIME\",\n",
    "    \"integrated_gradients\" : \"Integrated Gradients\",\n",
    "    \"itg\": \"Integrated Gradients\",\n",
    "    \"grad\": \"Gradient\",\n",
    "    \"gradient\": \"Gradient\",\n",
    "    \"lrp_uniform_epsilon\" : \"LRP\",\n",
    "    \"smooth_grad\" : \"SmoothGrad\",\n",
    "    \"sg\" : \"SmoothGrad\",\n",
    "    \"var_grad\" : \"VarGrad\",\n",
    "    \"grad_x_input\" : \"Gradient x Input\",\n",
    "    \"ig\" : \"Gradient x Input\",\n",
    "}\n",
    "\n",
    "MODEL_MAP = {\n",
    "    \"xgb\" : \"XGBoost\",\n",
    "    \"tab_resnet\": \"Neural Networks (NN)\",\n",
    "}\n",
    "\n",
    "FRAMEWORK_MAP = {\n",
    "    \"omnixai\" : \"OmniXAI\",\n",
    "    \"openxai\": \"OpenXAI\",\n",
    "    \"pnpxai\" : \"PnPXAI\",\n",
    "}\n",
    "\\\n",
    "NAME_MAP = EXP_MAP.copy()\n",
    "NAME_MAP.update(MODEL_MAP)\n",
    "NAME_MAP.update(FRAMEWORK_MAP)"
   ]
  },
  {
   "cell_type": "code",
   "execution_count": 9,
   "metadata": {},
   "outputs": [],
   "source": [
    "performance = record.replace(NAME_MAP).drop(columns='dataset').sort_values(by=[\"model\", \"explainer\", \"framework\"]).reset_index(drop=True)"
   ]
  },
  {
   "cell_type": "code",
   "execution_count": 10,
   "metadata": {},
   "outputs": [
    {
     "data": {
      "text/html": [
       "<div>\n",
       "<style scoped>\n",
       "    .dataframe tbody tr th:only-of-type {\n",
       "        vertical-align: middle;\n",
       "    }\n",
       "\n",
       "    .dataframe tbody tr th {\n",
       "        vertical-align: top;\n",
       "    }\n",
       "\n",
       "    .dataframe thead th {\n",
       "        text-align: right;\n",
       "    }\n",
       "</style>\n",
       "<table border=\"1\" class=\"dataframe\">\n",
       "  <thead>\n",
       "    <tr style=\"text-align: right;\">\n",
       "      <th></th>\n",
       "      <th>model</th>\n",
       "      <th>framework</th>\n",
       "      <th>explainer</th>\n",
       "      <th>abpc</th>\n",
       "      <th>cmpx</th>\n",
       "      <th>cmpd</th>\n",
       "    </tr>\n",
       "  </thead>\n",
       "  <tbody>\n",
       "    <tr>\n",
       "      <th>0</th>\n",
       "      <td>Neural Networks (NN)</td>\n",
       "      <td>OpenXAI</td>\n",
       "      <td>Gradient</td>\n",
       "      <td>-0.009568</td>\n",
       "      <td>1.866032</td>\n",
       "      <td>-0.380861</td>\n",
       "    </tr>\n",
       "    <tr>\n",
       "      <th>1</th>\n",
       "      <td>Neural Networks (NN)</td>\n",
       "      <td>PnPXAI</td>\n",
       "      <td>Gradient</td>\n",
       "      <td>-0.009568</td>\n",
       "      <td>1.720194</td>\n",
       "      <td>-0.372879</td>\n",
       "    </tr>\n",
       "    <tr>\n",
       "      <th>2</th>\n",
       "      <td>Neural Networks (NN)</td>\n",
       "      <td>OpenXAI</td>\n",
       "      <td>Gradient x Input</td>\n",
       "      <td>-0.007871</td>\n",
       "      <td>1.892230</td>\n",
       "      <td>-0.384743</td>\n",
       "    </tr>\n",
       "    <tr>\n",
       "      <th>3</th>\n",
       "      <td>Neural Networks (NN)</td>\n",
       "      <td>PnPXAI</td>\n",
       "      <td>Gradient x Input</td>\n",
       "      <td>0.119399</td>\n",
       "      <td>2.019815</td>\n",
       "      <td>-0.344283</td>\n",
       "    </tr>\n",
       "    <tr>\n",
       "      <th>4</th>\n",
       "      <td>Neural Networks (NN)</td>\n",
       "      <td>OpenXAI</td>\n",
       "      <td>Integrated Gradients</td>\n",
       "      <td>0.119399</td>\n",
       "      <td>1.730726</td>\n",
       "      <td>-0.250626</td>\n",
       "    </tr>\n",
       "    <tr>\n",
       "      <th>5</th>\n",
       "      <td>Neural Networks (NN)</td>\n",
       "      <td>PnPXAI</td>\n",
       "      <td>Integrated Gradients</td>\n",
       "      <td>0.000000</td>\n",
       "      <td>0.000000</td>\n",
       "      <td>0.000000</td>\n",
       "    </tr>\n",
       "    <tr>\n",
       "      <th>6</th>\n",
       "      <td>Neural Networks (NN)</td>\n",
       "      <td>OpenXAI</td>\n",
       "      <td>KernelSHAP</td>\n",
       "      <td>0.124624</td>\n",
       "      <td>1.717038</td>\n",
       "      <td>-0.243708</td>\n",
       "    </tr>\n",
       "    <tr>\n",
       "      <th>7</th>\n",
       "      <td>Neural Networks (NN)</td>\n",
       "      <td>PnPXAI</td>\n",
       "      <td>KernelSHAP</td>\n",
       "      <td>0.105677</td>\n",
       "      <td>1.782220</td>\n",
       "      <td>-0.271903</td>\n",
       "    </tr>\n",
       "    <tr>\n",
       "      <th>8</th>\n",
       "      <td>Neural Networks (NN)</td>\n",
       "      <td>OpenXAI</td>\n",
       "      <td>LIME</td>\n",
       "      <td>-0.009270</td>\n",
       "      <td>1.881029</td>\n",
       "      <td>-0.383622</td>\n",
       "    </tr>\n",
       "    <tr>\n",
       "      <th>9</th>\n",
       "      <td>Neural Networks (NN)</td>\n",
       "      <td>PnPXAI</td>\n",
       "      <td>LIME</td>\n",
       "      <td>0.080563</td>\n",
       "      <td>0.729816</td>\n",
       "      <td>-0.081513</td>\n",
       "    </tr>\n",
       "    <tr>\n",
       "      <th>10</th>\n",
       "      <td>Neural Networks (NN)</td>\n",
       "      <td>OpenXAI</td>\n",
       "      <td>SmoothGrad</td>\n",
       "      <td>-0.009127</td>\n",
       "      <td>1.876669</td>\n",
       "      <td>-0.382635</td>\n",
       "    </tr>\n",
       "    <tr>\n",
       "      <th>11</th>\n",
       "      <td>Neural Networks (NN)</td>\n",
       "      <td>PnPXAI</td>\n",
       "      <td>SmoothGrad</td>\n",
       "      <td>-0.035593</td>\n",
       "      <td>1.798652</td>\n",
       "      <td>-0.388205</td>\n",
       "    </tr>\n",
       "    <tr>\n",
       "      <th>12</th>\n",
       "      <td>Neural Networks (NN)</td>\n",
       "      <td>PnPXAI</td>\n",
       "      <td>lrp</td>\n",
       "      <td>0.036804</td>\n",
       "      <td>1.594167</td>\n",
       "      <td>-0.289390</td>\n",
       "    </tr>\n",
       "    <tr>\n",
       "      <th>13</th>\n",
       "      <td>Neural Networks (NN)</td>\n",
       "      <td>PnPXAI</td>\n",
       "      <td>vg</td>\n",
       "      <td>0.034014</td>\n",
       "      <td>1.720194</td>\n",
       "      <td>-0.316828</td>\n",
       "    </tr>\n",
       "    <tr>\n",
       "      <th>14</th>\n",
       "      <td>XGBoost</td>\n",
       "      <td>OmniXAI</td>\n",
       "      <td>KernelSHAP</td>\n",
       "      <td>0.065427</td>\n",
       "      <td>1.733226</td>\n",
       "      <td>-0.294303</td>\n",
       "    </tr>\n",
       "    <tr>\n",
       "      <th>15</th>\n",
       "      <td>XGBoost</td>\n",
       "      <td>PnPXAI</td>\n",
       "      <td>KernelSHAP</td>\n",
       "      <td>0.064608</td>\n",
       "      <td>1.819180</td>\n",
       "      <td>-0.312150</td>\n",
       "    </tr>\n",
       "    <tr>\n",
       "      <th>16</th>\n",
       "      <td>XGBoost</td>\n",
       "      <td>OmniXAI</td>\n",
       "      <td>LIME</td>\n",
       "      <td>0.044880</td>\n",
       "      <td>1.805990</td>\n",
       "      <td>-0.325294</td>\n",
       "    </tr>\n",
       "    <tr>\n",
       "      <th>17</th>\n",
       "      <td>XGBoost</td>\n",
       "      <td>PnPXAI</td>\n",
       "      <td>LIME</td>\n",
       "      <td>0.055819</td>\n",
       "      <td>0.659641</td>\n",
       "      <td>-0.087273</td>\n",
       "    </tr>\n",
       "  </tbody>\n",
       "</table>\n",
       "</div>"
      ],
      "text/plain": [
       "                   model framework             explainer      abpc      cmpx  \\\n",
       "0   Neural Networks (NN)   OpenXAI              Gradient -0.009568  1.866032   \n",
       "1   Neural Networks (NN)    PnPXAI              Gradient -0.009568  1.720194   \n",
       "2   Neural Networks (NN)   OpenXAI      Gradient x Input -0.007871  1.892230   \n",
       "3   Neural Networks (NN)    PnPXAI      Gradient x Input  0.119399  2.019815   \n",
       "4   Neural Networks (NN)   OpenXAI  Integrated Gradients  0.119399  1.730726   \n",
       "5   Neural Networks (NN)    PnPXAI  Integrated Gradients  0.000000  0.000000   \n",
       "6   Neural Networks (NN)   OpenXAI            KernelSHAP  0.124624  1.717038   \n",
       "7   Neural Networks (NN)    PnPXAI            KernelSHAP  0.105677  1.782220   \n",
       "8   Neural Networks (NN)   OpenXAI                  LIME -0.009270  1.881029   \n",
       "9   Neural Networks (NN)    PnPXAI                  LIME  0.080563  0.729816   \n",
       "10  Neural Networks (NN)   OpenXAI            SmoothGrad -0.009127  1.876669   \n",
       "11  Neural Networks (NN)    PnPXAI            SmoothGrad -0.035593  1.798652   \n",
       "12  Neural Networks (NN)    PnPXAI                   lrp  0.036804  1.594167   \n",
       "13  Neural Networks (NN)    PnPXAI                    vg  0.034014  1.720194   \n",
       "14               XGBoost   OmniXAI            KernelSHAP  0.065427  1.733226   \n",
       "15               XGBoost    PnPXAI            KernelSHAP  0.064608  1.819180   \n",
       "16               XGBoost   OmniXAI                  LIME  0.044880  1.805990   \n",
       "17               XGBoost    PnPXAI                  LIME  0.055819  0.659641   \n",
       "\n",
       "        cmpd  \n",
       "0  -0.380861  \n",
       "1  -0.372879  \n",
       "2  -0.384743  \n",
       "3  -0.344283  \n",
       "4  -0.250626  \n",
       "5   0.000000  \n",
       "6  -0.243708  \n",
       "7  -0.271903  \n",
       "8  -0.383622  \n",
       "9  -0.081513  \n",
       "10 -0.382635  \n",
       "11 -0.388205  \n",
       "12 -0.289390  \n",
       "13 -0.316828  \n",
       "14 -0.294303  \n",
       "15 -0.312150  \n",
       "16 -0.325294  \n",
       "17 -0.087273  "
      ]
     },
     "execution_count": 10,
     "metadata": {},
     "output_type": "execute_result"
    }
   ],
   "source": [
    "performance"
   ]
  },
  {
   "cell_type": "code",
   "execution_count": null,
   "metadata": {},
   "outputs": [],
   "source": [
    "STOP"
   ]
  },
  {
   "cell_type": "markdown",
   "metadata": {},
   "source": [
    "# Debugging"
   ]
  },
  {
   "cell_type": "code",
   "execution_count": null,
   "metadata": {},
   "outputs": [],
   "source": [
    "fms = ['openxai', 'pnpxai']\n",
    "exps = ['grad', 'ig']\n",
    "\n",
    "res = {}\n",
    "for fm in fms:\n",
    "    for exp in exps:\n",
    "        path = f\"results/Wine Quality/tab_resnet/{fm}/{exp}/explanations.npy\"\n",
    "        res[(fm, exp)] = np.load(path)\n"
   ]
  },
  {
   "cell_type": "code",
   "execution_count": null,
   "metadata": {},
   "outputs": [
    {
     "data": {
      "text/plain": [
       "(array([-0.0195922 ,  0.04447692,  0.00061291, -0.06784541,  0.00014911,\n",
       "        -0.05453618,  0.0386231 ,  0.03956512, -0.02250276, -0.03526237,\n",
       "        -0.07910307], dtype=float32),\n",
       " array([-0.0195922 ,  0.04447691,  0.00061291, -0.06784542,  0.00014911,\n",
       "        -0.05453619,  0.03862309,  0.03956513, -0.02250276, -0.03526237,\n",
       "        -0.0791031 ]))"
      ]
     },
     "execution_count": 10,
     "metadata": {},
     "output_type": "execute_result"
    }
   ],
   "source": [
    "res[(\"openxai\", \"grad\")][0], res[(\"pnpxai\", \"grad\")][0]"
   ]
  },
  {
   "cell_type": "code",
   "execution_count": null,
   "metadata": {},
   "outputs": [],
   "source": [
    "fm = \"pnpxai\"\n",
    "exp = \"ig\"\n",
    "path = f\"results/Wine Quality/tab_resnet/{fm}/{exp}/explanations.npy\"\n",
    "a = np.load(path)"
   ]
  },
  {
   "cell_type": "code",
   "execution_count": null,
   "metadata": {},
   "outputs": [
    {
     "data": {
      "text/plain": [
       "(11,)"
      ]
     },
     "execution_count": 20,
     "metadata": {},
     "output_type": "execute_result"
    }
   ],
   "source": [
    "a.shape"
   ]
  },
  {
   "cell_type": "code",
   "execution_count": null,
   "metadata": {},
   "outputs": [],
   "source": [
    "fms = ['openxai', 'pnpxai']\n",
    "exps = ['grad', 'shap']\n",
    "\n",
    "res = {}\n",
    "for fm in fms:\n",
    "    for exp in exps:\n",
    "        path = f\"results/Wine Quality/tab_resnet/{fm}/{exp}/abpc.npy\"\n",
    "        res[(fm, exp)] = np.load(path)"
   ]
  },
  {
   "cell_type": "code",
   "execution_count": null,
   "metadata": {},
   "outputs": [
    {
     "data": {
      "text/plain": [
       "(0.07961373776197433, 0.0607578344643116)"
      ]
     },
     "execution_count": 16,
     "metadata": {},
     "output_type": "execute_result"
    }
   ],
   "source": [
    "res[(\"openxai\", \"shap\")][0], res[(\"pnpxai\", \"shap\")][0]"
   ]
  },
  {
   "cell_type": "code",
   "execution_count": null,
   "metadata": {},
   "outputs": [
    {
     "data": {
      "text/plain": [
       "(0.12462404012680053, 0.1056765974353766)"
      ]
     },
     "execution_count": 17,
     "metadata": {},
     "output_type": "execute_result"
    }
   ],
   "source": [
    "res[(\"openxai\", \"shap\")].mean(), res[(\"pnpxai\", \"shap\")].mean()"
   ]
  },
  {
   "cell_type": "code",
   "execution_count": null,
   "metadata": {},
   "outputs": [
    {
     "data": {
      "text/plain": [
       "(-0.0360502190887928, -0.0360502190887928)"
      ]
     },
     "execution_count": 12,
     "metadata": {},
     "output_type": "execute_result"
    }
   ],
   "source": [
    "res[(\"openxai\", \"grad\")][0], res[(\"pnpxai\", \"grad\")][0]"
   ]
  },
  {
   "cell_type": "code",
   "execution_count": null,
   "metadata": {},
   "outputs": [
    {
     "data": {
      "text/plain": [
       "(-0.009568325662403367, -0.009568325662403367)"
      ]
     },
     "execution_count": 13,
     "metadata": {},
     "output_type": "execute_result"
    }
   ],
   "source": [
    "res[(\"openxai\", \"grad\")].mean(), res[(\"pnpxai\", \"grad\")].mean()"
   ]
  },
  {
   "cell_type": "code",
   "execution_count": null,
   "metadata": {},
   "outputs": [],
   "source": []
  },
  {
   "cell_type": "code",
   "execution_count": null,
   "metadata": {},
   "outputs": [],
   "source": []
  }
 ],
 "metadata": {
  "kernelspec": {
   "display_name": "pnpenv",
   "language": "python",
   "name": "python3"
  },
  "language_info": {
   "codemirror_mode": {
    "name": "ipython",
    "version": 3
   },
   "file_extension": ".py",
   "mimetype": "text/x-python",
   "name": "python",
   "nbconvert_exporter": "python",
   "pygments_lexer": "ipython3",
   "version": "3.10.13"
  }
 },
 "nbformat": 4,
 "nbformat_minor": 2
}
