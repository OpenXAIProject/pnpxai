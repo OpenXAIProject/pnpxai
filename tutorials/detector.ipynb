{
 "cells": [
  {
   "cell_type": "markdown",
   "metadata": {},
   "source": [
    "# Detector: ModelArchitecture"
   ]
  },
  {
   "cell_type": "markdown",
   "metadata": {},
   "source": [
    "## Models"
   ]
  },
  {
   "cell_type": "code",
   "execution_count": 1,
   "metadata": {},
   "outputs": [],
   "source": [
    "import torchvision\n",
    "\n",
    "resnet = torchvision.models.get_model(\"resnet18\").eval()\n",
    "vit = torchvision.models.get_model(\"vit_b_16\").eval()"
   ]
  },
  {
   "cell_type": "markdown",
   "metadata": {},
   "source": [
    "## ModelArchitecture"
   ]
  },
  {
   "cell_type": "markdown",
   "metadata": {},
   "source": [
    "### Construct an instance"
   ]
  },
  {
   "cell_type": "code",
   "execution_count": 2,
   "metadata": {},
   "outputs": [
    {
     "name": "stderr",
     "output_type": "stream",
     "text": [
      "/home/gkim/Projects/pnp/.venv/lib/python3.10/site-packages/torch/overrides.py:110: UserWarning: 'has_cuda' is deprecated, please use 'torch.backends.cuda.is_built()'\n",
      "  torch.has_cuda,\n",
      "/home/gkim/Projects/pnp/.venv/lib/python3.10/site-packages/torch/overrides.py:111: UserWarning: 'has_cudnn' is deprecated, please use 'torch.backends.cudnn.is_available()'\n",
      "  torch.has_cudnn,\n",
      "/home/gkim/Projects/pnp/.venv/lib/python3.10/site-packages/torch/overrides.py:117: UserWarning: 'has_mps' is deprecated, please use 'torch.backends.mps.is_built()'\n",
      "  torch.has_mps,\n",
      "/home/gkim/Projects/pnp/.venv/lib/python3.10/site-packages/torch/overrides.py:118: UserWarning: 'has_mkldnn' is deprecated, please use 'torch.backends.mkldnn.is_available()'\n",
      "  torch.has_mkldnn,\n"
     ]
    }
   ],
   "source": [
    "from torch.fx import symbolic_trace\n",
    "from open_xai.detector import ModelArchitecture\n",
    "\n",
    "traced_resnet = symbolic_trace(resnet)\n",
    "ma_resnet = ModelArchitecture(graph=traced_resnet.graph)"
   ]
  },
  {
   "cell_type": "markdown",
   "metadata": {},
   "source": [
    "**from_model** a classmethod directly constructing the instance from a model"
   ]
  },
  {
   "cell_type": "code",
   "execution_count": 3,
   "metadata": {},
   "outputs": [],
   "source": [
    "\n",
    "ma_resnet = ModelArchitecture.from_model(resnet)\n",
    "ma_vit = ModelArchitecture.from_model(vit)"
   ]
  },
  {
   "cell_type": "markdown",
   "metadata": {},
   "source": [
    "### Methods"
   ]
  },
  {
   "cell_type": "markdown",
   "metadata": {},
   "source": [
    "**list_nodes() -> List[NodeInfo]**\n",
    "\n",
    "List all nodes consisting of the model architecture as `NodeInfo` class."
   ]
  },
  {
   "cell_type": "code",
   "execution_count": 4,
   "metadata": {},
   "outputs": [
    {
     "data": {
      "text/plain": [
       "[NodeInfo(opcode='placeholder', name='x', target='x'),\n",
       " NodeInfo(opcode='call_module', name='conv1', target='conv1'),\n",
       " NodeInfo(opcode='call_module', name='bn1', target='bn1'),\n",
       " NodeInfo(opcode='call_module', name='relu', target='relu'),\n",
       " NodeInfo(opcode='call_module', name='maxpool', target='maxpool')]"
      ]
     },
     "execution_count": 4,
     "metadata": {},
     "output_type": "execute_result"
    }
   ],
   "source": [
    "ma_resnet.list_nodes()[:5]"
   ]
  },
  {
   "cell_type": "markdown",
   "metadata": {},
   "source": [
    "**get_node(name: str) -> NodeInfo**\n",
    "\n",
    "Get a node by name."
   ]
  },
  {
   "cell_type": "code",
   "execution_count": 5,
   "metadata": {},
   "outputs": [
    {
     "data": {
      "text/plain": [
       "NodeInfo(opcode='call_module', name='conv1', target='conv1')"
      ]
     },
     "execution_count": 5,
     "metadata": {},
     "output_type": "execute_result"
    }
   ],
   "source": [
    "ma_resnet.get_node(name=\"conv1\")"
   ]
  },
  {
   "cell_type": "markdown",
   "metadata": {},
   "source": [
    "**find_node(filter_func: Callable, base_node: Optional[NodeInfo]=None, all: bool=False) -> NodeInfo or List[NodeInfo]**\n",
    "\n",
    "Find node satisfying `filter_func` from the `base_node` in binary search manner.\n",
    "\n",
    "- `filter_func(n: NodeInfo) -> bool`: a callable returning bool from a `node: NodeInfo`\n",
    "- `base_node: NodeInfo`: a node where the searching will be started\n",
    "- `all: bool`: if True, find all nodes satisfying condition and return a list of them"
   ]
  },
  {
   "cell_type": "code",
   "execution_count": 6,
   "metadata": {},
   "outputs": [
    {
     "data": {
      "text/plain": [
       "NodeInfo(opcode='call_module', name='conv1', target='conv1')"
      ]
     },
     "execution_count": 6,
     "metadata": {},
     "output_type": "execute_result"
    }
   ],
   "source": [
    "from open_xai.detector.filters import conv_filter\n",
    "\n",
    "# find the first conv module\n",
    "ma_resnet.find_node(conv_filter)"
   ]
  },
  {
   "cell_type": "code",
   "execution_count": 7,
   "metadata": {},
   "outputs": [
    {
     "data": {
      "text/plain": [
       "[NodeInfo(opcode='call_module', name='conv1', target='conv1'),\n",
       " NodeInfo(opcode='call_module', name='layer1_0_conv1', target='layer1.0.conv1'),\n",
       " NodeInfo(opcode='call_module', name='layer1_0_conv2', target='layer1.0.conv2'),\n",
       " NodeInfo(opcode='call_module', name='layer1_1_conv1', target='layer1.1.conv1'),\n",
       " NodeInfo(opcode='call_module', name='layer1_1_conv2', target='layer1.1.conv2'),\n",
       " NodeInfo(opcode='call_module', name='layer2_0_conv1', target='layer2.0.conv1'),\n",
       " NodeInfo(opcode='call_module', name='layer2_0_conv2', target='layer2.0.conv2'),\n",
       " NodeInfo(opcode='call_module', name='layer2_0_downsample_0', target='layer2.0.downsample.0'),\n",
       " NodeInfo(opcode='call_module', name='layer2_1_conv1', target='layer2.1.conv1'),\n",
       " NodeInfo(opcode='call_module', name='layer2_1_conv2', target='layer2.1.conv2'),\n",
       " NodeInfo(opcode='call_module', name='layer3_0_conv1', target='layer3.0.conv1'),\n",
       " NodeInfo(opcode='call_module', name='layer3_0_conv2', target='layer3.0.conv2'),\n",
       " NodeInfo(opcode='call_module', name='layer3_0_downsample_0', target='layer3.0.downsample.0'),\n",
       " NodeInfo(opcode='call_module', name='layer3_1_conv1', target='layer3.1.conv1'),\n",
       " NodeInfo(opcode='call_module', name='layer3_1_conv2', target='layer3.1.conv2'),\n",
       " NodeInfo(opcode='call_module', name='layer4_0_conv1', target='layer4.0.conv1'),\n",
       " NodeInfo(opcode='call_module', name='layer4_0_conv2', target='layer4.0.conv2'),\n",
       " NodeInfo(opcode='call_module', name='layer4_0_downsample_0', target='layer4.0.downsample.0'),\n",
       " NodeInfo(opcode='call_module', name='layer4_1_conv1', target='layer4.1.conv1'),\n",
       " NodeInfo(opcode='call_module', name='layer4_1_conv2', target='layer4.1.conv2')]"
      ]
     },
     "execution_count": 7,
     "metadata": {},
     "output_type": "execute_result"
    }
   ],
   "source": [
    "# find all conv module from the model architecture\n",
    "ma_resnet.find_node(conv_filter, all=True)"
   ]
  },
  {
   "cell_type": "code",
   "execution_count": 30,
   "metadata": {},
   "outputs": [
    {
     "data": {
      "text/plain": [
       "[NodeInfo(opcode='call_function', name='add', target=<built-in function add>),\n",
       " NodeInfo(opcode='call_function', name='add_1', target=<built-in function add>),\n",
       " NodeInfo(opcode='call_function', name='add_2', target=<built-in function add>),\n",
       " NodeInfo(opcode='call_function', name='add_3', target=<built-in function add>),\n",
       " NodeInfo(opcode='call_function', name='add_4', target=<built-in function add>),\n",
       " NodeInfo(opcode='call_function', name='add_5', target=<built-in function add>),\n",
       " NodeInfo(opcode='call_function', name='add_6', target=<built-in function add>),\n",
       " NodeInfo(opcode='call_function', name='add_7', target=<built-in function add>)]"
      ]
     },
     "execution_count": 30,
     "metadata": {},
     "output_type": "execute_result"
    }
   ],
   "source": [
    "# custom filter_func\n",
    "from _operator import add\n",
    "\n",
    "# find all where addition occurs\n",
    "conn_filter = lambda n: n.operator is add\n",
    "ma_resnet.find_node(conn_filter, all=True)"
   ]
  },
  {
   "cell_type": "code",
   "execution_count": 9,
   "metadata": {},
   "outputs": [
    {
     "data": {
      "text/plain": [
       "[NodeInfo(opcode='call_module', name='maxpool', target='maxpool'),\n",
       " NodeInfo(opcode='call_module', name='layer1_0_relu_1', target='layer1.0.relu'),\n",
       " NodeInfo(opcode='call_module', name='layer1_1_relu_1', target='layer1.1.relu'),\n",
       " NodeInfo(opcode='call_module', name='layer2_0_relu_1', target='layer2.0.relu'),\n",
       " NodeInfo(opcode='call_module', name='layer2_1_relu_1', target='layer2.1.relu'),\n",
       " NodeInfo(opcode='call_module', name='layer3_0_relu_1', target='layer3.0.relu'),\n",
       " NodeInfo(opcode='call_module', name='layer3_1_relu_1', target='layer3.1.relu'),\n",
       " NodeInfo(opcode='call_module', name='layer4_0_relu_1', target='layer4.0.relu')]"
      ]
     },
     "execution_count": 9,
     "metadata": {},
     "output_type": "execute_result"
    }
   ],
   "source": [
    "# find all where cloning occurs\n",
    "clone_filter = lambda n: len(n.users) == 2\n",
    "ma_resnet.find_node(clone_filter, all=True)"
   ]
  },
  {
   "cell_type": "markdown",
   "metadata": {},
   "source": [
    "**find_cam_target_node() -> NodeInfo**\n",
    "\n",
    "Find CAM-targetable node. Internally, it uses `find_node` method with predefined `filter_func` to detect CAM-targetables."
   ]
  },
  {
   "cell_type": "code",
   "execution_count": 10,
   "metadata": {},
   "outputs": [
    {
     "data": {
      "text/plain": [
       "NodeInfo(opcode='call_module', name='layer4_1_relu_1', target='layer4.1.relu')"
      ]
     },
     "execution_count": 10,
     "metadata": {},
     "output_type": "execute_result"
    }
   ],
   "source": [
    "# CAM-target node in resnet\n",
    "node = ma_resnet.find_cam_target_node()\n",
    "node"
   ]
  },
  {
   "cell_type": "code",
   "execution_count": 11,
   "metadata": {},
   "outputs": [],
   "source": [
    "# No CAM target in vit\n",
    "ma_vit.find_cam_target_node()"
   ]
  },
  {
   "cell_type": "markdown",
   "metadata": {},
   "source": [
    "## NodeInfo\n",
    "\n",
    "`NodeInfo` is a dataclass referred to a `node: torch.fx.Node` in the graph. It is working like the referring node by cloning its main attributions. Also, several properties helping detection were added."
   ]
  },
  {
   "cell_type": "code",
   "execution_count": 12,
   "metadata": {},
   "outputs": [
    {
     "data": {
      "text/plain": [
       "NodeInfo(opcode='call_module', name='layer4_1_relu_1', target='layer4.1.relu')"
      ]
     },
     "execution_count": 12,
     "metadata": {},
     "output_type": "execute_result"
    }
   ],
   "source": [
    "node"
   ]
  },
  {
   "cell_type": "code",
   "execution_count": 13,
   "metadata": {},
   "outputs": [
    {
     "data": {
      "text/plain": [
       "layer4_1_relu_1"
      ]
     },
     "execution_count": 13,
     "metadata": {},
     "output_type": "execute_result"
    }
   ],
   "source": [
    "# referring (original) node\n",
    "node._node"
   ]
  },
  {
   "cell_type": "code",
   "execution_count": 14,
   "metadata": {},
   "outputs": [
    {
     "data": {
      "text/plain": [
       "torch.fx.node.Node"
      ]
     },
     "execution_count": 14,
     "metadata": {},
     "output_type": "execute_result"
    }
   ],
   "source": [
    "type(node._node)"
   ]
  },
  {
   "cell_type": "code",
   "execution_count": 15,
   "metadata": {},
   "outputs": [
    {
     "data": {
      "text/plain": [
       "open_xai.detector._core.NodeInfo"
      ]
     },
     "execution_count": 15,
     "metadata": {},
     "output_type": "execute_result"
    }
   ],
   "source": [
    "type(node)"
   ]
  },
  {
   "cell_type": "markdown",
   "metadata": {},
   "source": [
    "### Cloned attributions from `torch.fx.Node` \n",
    "\n",
    "Please see [docs](https://pytorch.org/docs/stable/fx.html#torch.fx.Node) for `torch.fx.Node`."
   ]
  },
  {
   "cell_type": "code",
   "execution_count": 16,
   "metadata": {},
   "outputs": [
    {
     "data": {
      "text/plain": [
       "'call_module'"
      ]
     },
     "execution_count": 16,
     "metadata": {},
     "output_type": "execute_result"
    }
   ],
   "source": [
    "# clone of n.op\n",
    "node.opcode"
   ]
  },
  {
   "cell_type": "code",
   "execution_count": 17,
   "metadata": {},
   "outputs": [
    {
     "data": {
      "text/plain": [
       "'layer4_1_relu_1'"
      ]
     },
     "execution_count": 17,
     "metadata": {},
     "output_type": "execute_result"
    }
   ],
   "source": [
    "# clone of n.name\n",
    "node.name"
   ]
  },
  {
   "cell_type": "code",
   "execution_count": 18,
   "metadata": {},
   "outputs": [
    {
     "data": {
      "text/plain": [
       "'layer4.1.relu'"
      ]
     },
     "execution_count": 18,
     "metadata": {},
     "output_type": "execute_result"
    }
   ],
   "source": [
    "# clone of n.target (accessible name if n.opcode == \"call_module\")\n",
    "node.target"
   ]
  },
  {
   "cell_type": "code",
   "execution_count": 19,
   "metadata": {},
   "outputs": [
    {
     "data": {
      "text/plain": [
       "(NodeInfo(opcode='call_function', name='add_7', target=<built-in function add>),)"
      ]
     },
     "execution_count": 19,
     "metadata": {},
     "output_type": "execute_result"
    }
   ],
   "source": [
    "# clone of n.args\n",
    "node.args"
   ]
  },
  {
   "cell_type": "code",
   "execution_count": 20,
   "metadata": {},
   "outputs": [
    {
     "data": {
      "text/plain": [
       "{}"
      ]
     },
     "execution_count": 20,
     "metadata": {},
     "output_type": "execute_result"
    }
   ],
   "source": [
    "# clone of n.kwargs\n",
    "node.kwargs"
   ]
  },
  {
   "cell_type": "code",
   "execution_count": 21,
   "metadata": {},
   "outputs": [
    {
     "data": {
      "text/plain": [
       "(NodeInfo(opcode='call_module', name='avgpool', target='avgpool'),)"
      ]
     },
     "execution_count": 21,
     "metadata": {},
     "output_type": "execute_result"
    }
   ],
   "source": [
    "# clone of n.users\n",
    "node.users"
   ]
  },
  {
   "cell_type": "code",
   "execution_count": 22,
   "metadata": {},
   "outputs": [
    {
     "data": {
      "text/plain": [
       "NodeInfo(opcode='call_module', name='avgpool', target='avgpool')"
      ]
     },
     "execution_count": 22,
     "metadata": {},
     "output_type": "execute_result"
    }
   ],
   "source": [
    "# clone of n.next\n",
    "node.next"
   ]
  },
  {
   "cell_type": "code",
   "execution_count": 23,
   "metadata": {},
   "outputs": [
    {
     "data": {
      "text/plain": [
       "NodeInfo(opcode='call_function', name='add_7', target=<built-in function add>)"
      ]
     },
     "execution_count": 23,
     "metadata": {},
     "output_type": "execute_result"
    }
   ],
   "source": [
    "# clone of n.prev\n",
    "node.prev"
   ]
  },
  {
   "cell_type": "markdown",
   "metadata": {},
   "source": [
    "### Properties helping detection"
   ]
  },
  {
   "cell_type": "code",
   "execution_count": 24,
   "metadata": {},
   "outputs": [
    {
     "data": {
      "text/plain": [
       "ReLU(inplace=True)"
      ]
     },
     "execution_count": 24,
     "metadata": {},
     "output_type": "execute_result"
    }
   ],
   "source": [
    "# directly get the matched operator from the node\n",
    "node.operator"
   ]
  },
  {
   "cell_type": "code",
   "execution_count": 25,
   "metadata": {},
   "outputs": [
    {
     "data": {
      "text/plain": [
       "True"
      ]
     },
     "execution_count": 25,
     "metadata": {},
     "output_type": "execute_result"
    }
   ],
   "source": [
    "# definitely same as one from model\n",
    "operator_from_model = resnet\n",
    "for t in node.target.split(\".\"):\n",
    "    operator_from_model = getattr(operator_from_model, t)\n",
    "\n",
    "operator_from_model is node.operator"
   ]
  },
  {
   "cell_type": "code",
   "execution_count": 26,
   "metadata": {},
   "outputs": [
    {
     "data": {
      "text/plain": [
       "[NodeInfo(opcode='call_module', name='maxpool', target='maxpool'),\n",
       " NodeInfo(opcode='call_module', name='avgpool', target='avgpool')]"
      ]
     },
     "execution_count": 26,
     "metadata": {},
     "output_type": "execute_result"
    }
   ],
   "source": [
    "# detection example using node.operator\n",
    "\n",
    "pool_filter = lambda n: (\n",
    "    n.opcode == \"call_module\"\n",
    "    and n.operator.__module__ == \"torch.nn.modules.pooling\"\n",
    ")\n",
    "ma_resnet.find_node(pool_filter, all=True)"
   ]
  },
  {
   "cell_type": "markdown",
   "metadata": {},
   "source": [
    "### converting structure"
   ]
  },
  {
   "cell_type": "code",
   "execution_count": 27,
   "metadata": {},
   "outputs": [
    {
     "data": {
      "text/plain": [
       "{'opcode': 'call_module', 'name': 'layer4_1_relu_1', 'target': 'layer4.1.relu'}"
      ]
     },
     "execution_count": 27,
     "metadata": {},
     "output_type": "execute_result"
    }
   ],
   "source": [
    "# to dictionary\n",
    "node.to_dict()"
   ]
  },
  {
   "cell_type": "code",
   "execution_count": 28,
   "metadata": {},
   "outputs": [],
   "source": [
    "# [TODO] to json\n",
    "node.to_json()"
   ]
  },
  {
   "cell_type": "markdown",
   "metadata": {},
   "source": [
    "## Example: GradCAM"
   ]
  },
  {
   "cell_type": "code",
   "execution_count": 29,
   "metadata": {},
   "outputs": [
    {
     "data": {
      "text/plain": [
       "tensor([[[[0.0545, 0.0553, 0.0552, 0.0601, 0.0620, 0.0594, 0.0419],\n",
       "          [0.0821, 0.0789, 0.0940, 0.1166, 0.1117, 0.1091, 0.0835],\n",
       "          [0.0818, 0.0944, 0.0925, 0.1173, 0.1222, 0.1291, 0.0880],\n",
       "          [0.0750, 0.0921, 0.0998, 0.1225, 0.1283, 0.1159, 0.0807],\n",
       "          [0.0835, 0.1015, 0.1190, 0.1267, 0.1299, 0.1091, 0.0859],\n",
       "          [0.0726, 0.1072, 0.0970, 0.1198, 0.1027, 0.1030, 0.0893],\n",
       "          [0.0446, 0.0804, 0.0749, 0.0937, 0.0806, 0.0742, 0.0696]]]],\n",
       "       grad_fn=<SumBackward1>)"
      ]
     },
     "execution_count": 29,
     "metadata": {},
     "output_type": "execute_result"
    }
   ],
   "source": [
    "import torch\n",
    "from captum.attr import LayerGradCam\n",
    "\n",
    "inputs = torch.randn(1, 3, 224, 224)\n",
    "\n",
    "target = resnet(inputs).argmax(1).item()\n",
    "explainer = LayerGradCam(resnet, layer=node.operator) # here\n",
    "attrs = explainer.attribute(inputs, target=target)\n",
    "attrs"
   ]
  }
 ],
 "metadata": {
  "kernelspec": {
   "display_name": ".venv",
   "language": "python",
   "name": "python3"
  },
  "language_info": {
   "codemirror_mode": {
    "name": "ipython",
    "version": 3
   },
   "file_extension": ".py",
   "mimetype": "text/x-python",
   "name": "python",
   "nbconvert_exporter": "python",
   "pygments_lexer": "ipython3",
   "version": "3.10.12"
  }
 },
 "nbformat": 4,
 "nbformat_minor": 2
}
