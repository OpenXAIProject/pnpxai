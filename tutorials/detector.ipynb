{
 "cells": [
  {
   "cell_type": "markdown",
   "metadata": {},
   "source": [
    "# Detector: ModelArchitecture\n",
    "\n",
    "- author: gh\n",
    "- last update: 2023-10-30\n"
   ]
  },
  {
   "cell_type": "markdown",
   "metadata": {},
   "source": [
    "## Models"
   ]
  },
  {
   "cell_type": "code",
   "execution_count": 1,
   "metadata": {},
   "outputs": [],
   "source": [
    "import torchvision\n",
    "\n",
    "resnet = torchvision.models.get_model(\"resnet18\").eval()\n",
    "vit = torchvision.models.get_model(\"vit_b_16\").eval()"
   ]
  },
  {
   "cell_type": "markdown",
   "metadata": {},
   "source": [
    "## ModelArchitecture"
   ]
  },
  {
   "cell_type": "markdown",
   "metadata": {},
   "source": [
    "### Construct an instance"
   ]
  },
  {
   "cell_type": "code",
   "execution_count": 2,
   "metadata": {},
   "outputs": [
    {
     "name": "stderr",
     "output_type": "stream",
     "text": [
      "/home/gkim/Projects/pnp/.venv/lib/python3.10/site-packages/torch/overrides.py:110: UserWarning: 'has_cuda' is deprecated, please use 'torch.backends.cuda.is_built()'\n",
      "  torch.has_cuda,\n",
      "/home/gkim/Projects/pnp/.venv/lib/python3.10/site-packages/torch/overrides.py:111: UserWarning: 'has_cudnn' is deprecated, please use 'torch.backends.cudnn.is_available()'\n",
      "  torch.has_cudnn,\n",
      "/home/gkim/Projects/pnp/.venv/lib/python3.10/site-packages/torch/overrides.py:117: UserWarning: 'has_mps' is deprecated, please use 'torch.backends.mps.is_built()'\n",
      "  torch.has_mps,\n",
      "/home/gkim/Projects/pnp/.venv/lib/python3.10/site-packages/torch/overrides.py:118: UserWarning: 'has_mkldnn' is deprecated, please use 'torch.backends.mkldnn.is_available()'\n",
      "  torch.has_mkldnn,\n"
     ]
    }
   ],
   "source": [
    "from torch.fx import symbolic_trace\n",
    "from open_xai.detector import ModelArchitecture\n",
    "\n",
    "traced_resnet = symbolic_trace(resnet)\n",
    "ma_resnet = ModelArchitecture(graph=traced_resnet.graph)"
   ]
  },
  {
   "cell_type": "markdown",
   "metadata": {},
   "source": [
    "**from_model** a classmethod directly constructing the instance from a model"
   ]
  },
  {
   "cell_type": "code",
   "execution_count": 3,
   "metadata": {},
   "outputs": [],
   "source": [
    "\n",
    "ma_resnet = ModelArchitecture.from_model(resnet)\n",
    "ma_vit = ModelArchitecture.from_model(vit)"
   ]
  },
  {
   "cell_type": "markdown",
   "metadata": {},
   "source": [
    "### Methods"
   ]
  },
  {
   "cell_type": "markdown",
   "metadata": {},
   "source": [
    "**list_nodes() -> List[NodeInfo]**\n",
    "\n",
    "List all nodes consisting of the model architecture as `NodeInfo` class."
   ]
  },
  {
   "cell_type": "code",
   "execution_count": 4,
   "metadata": {},
   "outputs": [
    {
     "data": {
      "text/plain": [
       "[NodeInfo(opcode='placeholder', name='x', target='x'),\n",
       " NodeInfo(opcode='call_module', name='conv1', target='conv1'),\n",
       " NodeInfo(opcode='call_module', name='bn1', target='bn1'),\n",
       " NodeInfo(opcode='call_module', name='relu', target='relu'),\n",
       " NodeInfo(opcode='call_module', name='maxpool', target='maxpool')]"
      ]
     },
     "execution_count": 4,
     "metadata": {},
     "output_type": "execute_result"
    }
   ],
   "source": [
    "ma_resnet.list_nodes()[:5]"
   ]
  },
  {
   "cell_type": "markdown",
   "metadata": {},
   "source": [
    "**get_node(name: str) -> NodeInfo**\n",
    "\n",
    "Get a node by name."
   ]
  },
  {
   "cell_type": "code",
   "execution_count": 5,
   "metadata": {},
   "outputs": [
    {
     "data": {
      "text/plain": [
       "NodeInfo(opcode='call_module', name='conv1', target='conv1')"
      ]
     },
     "execution_count": 5,
     "metadata": {},
     "output_type": "execute_result"
    }
   ],
   "source": [
    "ma_resnet.get_node(name=\"conv1\")"
   ]
  },
  {
   "cell_type": "markdown",
   "metadata": {},
   "source": [
    "**find_node(filter_func: Callable, base_node: Optional[NodeInfo]=None, all: bool=False) -> NodeInfo or List[NodeInfo]**\n",
    "\n",
    "Find node satisfying `filter_func` from the `base_node` in binary search manner.\n",
    "\n",
    "- `filter_func(n: NodeInfo) -> bool`: a callable returning bool from a `node: NodeInfo`\n",
    "- `base_node: NodeInfo`: a node where the searching will be started\n",
    "- `all: bool`: if True, find all nodes satisfying condition and return a list of them"
   ]
  },
  {
   "cell_type": "code",
   "execution_count": 6,
   "metadata": {},
   "outputs": [
    {
     "data": {
      "text/plain": [
       "NodeInfo(opcode='call_module', name='conv1', target='conv1')"
      ]
     },
     "execution_count": 6,
     "metadata": {},
     "output_type": "execute_result"
    }
   ],
   "source": [
    "from open_xai.detector.filters import conv_filter\n",
    "\n",
    "# find the first conv module\n",
    "ma_resnet.find_node(conv_filter)"
   ]
  },
  {
   "cell_type": "code",
   "execution_count": 7,
   "metadata": {},
   "outputs": [
    {
     "data": {
      "text/plain": [
       "[NodeInfo(opcode='call_module', name='conv1', target='conv1'),\n",
       " NodeInfo(opcode='call_module', name='layer1_0_conv1', target='layer1.0.conv1'),\n",
       " NodeInfo(opcode='call_module', name='layer1_0_conv2', target='layer1.0.conv2'),\n",
       " NodeInfo(opcode='call_module', name='layer1_1_conv1', target='layer1.1.conv1'),\n",
       " NodeInfo(opcode='call_module', name='layer1_1_conv2', target='layer1.1.conv2'),\n",
       " NodeInfo(opcode='call_module', name='layer2_0_conv1', target='layer2.0.conv1'),\n",
       " NodeInfo(opcode='call_module', name='layer2_0_conv2', target='layer2.0.conv2'),\n",
       " NodeInfo(opcode='call_module', name='layer2_0_downsample_0', target='layer2.0.downsample.0'),\n",
       " NodeInfo(opcode='call_module', name='layer2_1_conv1', target='layer2.1.conv1'),\n",
       " NodeInfo(opcode='call_module', name='layer2_1_conv2', target='layer2.1.conv2'),\n",
       " NodeInfo(opcode='call_module', name='layer3_0_conv1', target='layer3.0.conv1'),\n",
       " NodeInfo(opcode='call_module', name='layer3_0_conv2', target='layer3.0.conv2'),\n",
       " NodeInfo(opcode='call_module', name='layer3_0_downsample_0', target='layer3.0.downsample.0'),\n",
       " NodeInfo(opcode='call_module', name='layer3_1_conv1', target='layer3.1.conv1'),\n",
       " NodeInfo(opcode='call_module', name='layer3_1_conv2', target='layer3.1.conv2'),\n",
       " NodeInfo(opcode='call_module', name='layer4_0_conv1', target='layer4.0.conv1'),\n",
       " NodeInfo(opcode='call_module', name='layer4_0_conv2', target='layer4.0.conv2'),\n",
       " NodeInfo(opcode='call_module', name='layer4_0_downsample_0', target='layer4.0.downsample.0'),\n",
       " NodeInfo(opcode='call_module', name='layer4_1_conv1', target='layer4.1.conv1'),\n",
       " NodeInfo(opcode='call_module', name='layer4_1_conv2', target='layer4.1.conv2')]"
      ]
     },
     "execution_count": 7,
     "metadata": {},
     "output_type": "execute_result"
    }
   ],
   "source": [
    "# find all conv module from the model architecture\n",
    "ma_resnet.find_node(conv_filter, all=True)"
   ]
  },
  {
   "cell_type": "code",
   "execution_count": 8,
   "metadata": {},
   "outputs": [
    {
     "data": {
      "text/plain": [
       "[NodeInfo(opcode='call_function', name='add', target='operator.add'),\n",
       " NodeInfo(opcode='call_function', name='add_1', target='operator.add'),\n",
       " NodeInfo(opcode='call_function', name='add_2', target='operator.add'),\n",
       " NodeInfo(opcode='call_function', name='add_3', target='operator.add'),\n",
       " NodeInfo(opcode='call_function', name='add_4', target='operator.add'),\n",
       " NodeInfo(opcode='call_function', name='add_5', target='operator.add'),\n",
       " NodeInfo(opcode='call_function', name='add_6', target='operator.add'),\n",
       " NodeInfo(opcode='call_function', name='add_7', target='operator.add')]"
      ]
     },
     "execution_count": 8,
     "metadata": {},
     "output_type": "execute_result"
    }
   ],
   "source": [
    "# custom filter_func\n",
    "from _operator import add\n",
    "\n",
    "# find all where addition occurs\n",
    "conn_filter = lambda n: n.operator is add\n",
    "ma_resnet.find_node(conn_filter, all=True)"
   ]
  },
  {
   "cell_type": "code",
   "execution_count": 9,
   "metadata": {},
   "outputs": [
    {
     "data": {
      "text/plain": [
       "[NodeInfo(opcode='call_module', name='maxpool', target='maxpool'),\n",
       " NodeInfo(opcode='call_module', name='layer1_0_relu_1', target='layer1.0.relu'),\n",
       " NodeInfo(opcode='call_module', name='layer1_1_relu_1', target='layer1.1.relu'),\n",
       " NodeInfo(opcode='call_module', name='layer2_0_relu_1', target='layer2.0.relu'),\n",
       " NodeInfo(opcode='call_module', name='layer2_1_relu_1', target='layer2.1.relu'),\n",
       " NodeInfo(opcode='call_module', name='layer3_0_relu_1', target='layer3.0.relu'),\n",
       " NodeInfo(opcode='call_module', name='layer3_1_relu_1', target='layer3.1.relu'),\n",
       " NodeInfo(opcode='call_module', name='layer4_0_relu_1', target='layer4.0.relu')]"
      ]
     },
     "execution_count": 9,
     "metadata": {},
     "output_type": "execute_result"
    }
   ],
   "source": [
    "# find all where cloning occurs\n",
    "clone_filter = lambda n: len(n.users) == 2\n",
    "ma_resnet.find_node(clone_filter, all=True)"
   ]
  },
  {
   "cell_type": "markdown",
   "metadata": {},
   "source": [
    "**find_cam_target_module() -> Optional[Tuple[str, nn.Module]]**\n",
    "\n",
    "Find CAM-target candidate name and module object. Internally, it uses `find_node` method with predefined `filter_func` to detect the candidates, and finally get `owning_module` of the  node."
   ]
  },
  {
   "cell_type": "code",
   "execution_count": 10,
   "metadata": {},
   "outputs": [
    {
     "data": {
      "text/plain": [
       "('layer4.1.relu', ReLU(inplace=True))"
      ]
     },
     "execution_count": 10,
     "metadata": {},
     "output_type": "execute_result"
    }
   ],
   "source": [
    "# CAM-target node in resnet\n",
    "ma_resnet.find_cam_target_module()"
   ]
  },
  {
   "cell_type": "markdown",
   "metadata": {},
   "source": [
    "If there is no module satisfying the predefined conditions, output `None`."
   ]
  },
  {
   "cell_type": "code",
   "execution_count": 11,
   "metadata": {},
   "outputs": [],
   "source": [
    "# No CAM target in vit\n",
    "ma_vit.find_cam_target_module()"
   ]
  },
  {
   "cell_type": "markdown",
   "metadata": {},
   "source": [
    "## NodeInfo\n",
    "\n",
    "`NodeInfo` is a dataclass referred to a `node: torch.fx.Node` in the graph. It is working like the referring node by cloning its main attributions. Also, several properties helping detection were added."
   ]
  },
  {
   "cell_type": "code",
   "execution_count": 12,
   "metadata": {},
   "outputs": [
    {
     "data": {
      "text/plain": [
       "NodeInfo(opcode='call_module', name='conv1', target='conv1')"
      ]
     },
     "execution_count": 12,
     "metadata": {},
     "output_type": "execute_result"
    }
   ],
   "source": [
    "example_node = ma_resnet.get_node(\"conv1\")\n",
    "example_node"
   ]
  },
  {
   "cell_type": "code",
   "execution_count": 13,
   "metadata": {},
   "outputs": [
    {
     "data": {
      "text/plain": [
       "conv1"
      ]
     },
     "execution_count": 13,
     "metadata": {},
     "output_type": "execute_result"
    }
   ],
   "source": [
    "# referring (original) node\n",
    "example_node._node"
   ]
  },
  {
   "cell_type": "code",
   "execution_count": 14,
   "metadata": {},
   "outputs": [
    {
     "data": {
      "text/plain": [
       "torch.fx.node.Node"
      ]
     },
     "execution_count": 14,
     "metadata": {},
     "output_type": "execute_result"
    }
   ],
   "source": [
    "type(example_node._node)"
   ]
  },
  {
   "cell_type": "code",
   "execution_count": 15,
   "metadata": {},
   "outputs": [
    {
     "data": {
      "text/plain": [
       "open_xai.detector._core.NodeInfo"
      ]
     },
     "execution_count": 15,
     "metadata": {},
     "output_type": "execute_result"
    }
   ],
   "source": [
    "type(example_node)"
   ]
  },
  {
   "cell_type": "markdown",
   "metadata": {},
   "source": [
    "### Cloned attributions from `torch.fx.Node` \n",
    "\n",
    "Please see [docs](https://pytorch.org/docs/stable/fx.html#torch.fx.Node) for `torch.fx.Node`."
   ]
  },
  {
   "cell_type": "code",
   "execution_count": 16,
   "metadata": {},
   "outputs": [
    {
     "data": {
      "text/plain": [
       "'call_module'"
      ]
     },
     "execution_count": 16,
     "metadata": {},
     "output_type": "execute_result"
    }
   ],
   "source": [
    "# clone of n.op\n",
    "example_node.opcode"
   ]
  },
  {
   "cell_type": "code",
   "execution_count": 17,
   "metadata": {},
   "outputs": [
    {
     "data": {
      "text/plain": [
       "'conv1'"
      ]
     },
     "execution_count": 17,
     "metadata": {},
     "output_type": "execute_result"
    }
   ],
   "source": [
    "# clone of n.name\n",
    "example_node.name"
   ]
  },
  {
   "cell_type": "code",
   "execution_count": 18,
   "metadata": {},
   "outputs": [
    {
     "data": {
      "text/plain": [
       "'conv1'"
      ]
     },
     "execution_count": 18,
     "metadata": {},
     "output_type": "execute_result"
    }
   ],
   "source": [
    "# clone of n.target (accessible name if n.opcode == \"call_module\")\n",
    "example_node.target"
   ]
  },
  {
   "cell_type": "code",
   "execution_count": 19,
   "metadata": {},
   "outputs": [
    {
     "data": {
      "text/plain": [
       "{'nn_module_stack': OrderedDict([('conv1', torch.nn.modules.conv.Conv2d)])}"
      ]
     },
     "execution_count": 19,
     "metadata": {},
     "output_type": "execute_result"
    }
   ],
   "source": [
    "# clone of n.meta\n",
    "example_node.meta"
   ]
  },
  {
   "cell_type": "code",
   "execution_count": 20,
   "metadata": {},
   "outputs": [
    {
     "data": {
      "text/plain": [
       "(NodeInfo(opcode='placeholder', name='x', target='x'),)"
      ]
     },
     "execution_count": 20,
     "metadata": {},
     "output_type": "execute_result"
    }
   ],
   "source": [
    "# clone of n.args\n",
    "example_node.args"
   ]
  },
  {
   "cell_type": "code",
   "execution_count": 21,
   "metadata": {},
   "outputs": [
    {
     "data": {
      "text/plain": [
       "{}"
      ]
     },
     "execution_count": 21,
     "metadata": {},
     "output_type": "execute_result"
    }
   ],
   "source": [
    "# clone of n.kwargs\n",
    "example_node.kwargs"
   ]
  },
  {
   "cell_type": "code",
   "execution_count": 22,
   "metadata": {},
   "outputs": [
    {
     "data": {
      "text/plain": [
       "(NodeInfo(opcode='call_module', name='bn1', target='bn1'),)"
      ]
     },
     "execution_count": 22,
     "metadata": {},
     "output_type": "execute_result"
    }
   ],
   "source": [
    "# clone of n.users\n",
    "example_node.users"
   ]
  },
  {
   "cell_type": "code",
   "execution_count": 23,
   "metadata": {},
   "outputs": [
    {
     "data": {
      "text/plain": [
       "NodeInfo(opcode='call_module', name='bn1', target='bn1')"
      ]
     },
     "execution_count": 23,
     "metadata": {},
     "output_type": "execute_result"
    }
   ],
   "source": [
    "# clone of n.next\n",
    "example_node.next"
   ]
  },
  {
   "cell_type": "code",
   "execution_count": 24,
   "metadata": {},
   "outputs": [
    {
     "data": {
      "text/plain": [
       "NodeInfo(opcode='placeholder', name='x', target='x')"
      ]
     },
     "execution_count": 24,
     "metadata": {},
     "output_type": "execute_result"
    }
   ],
   "source": [
    "# clone of n.prev\n",
    "example_node.prev"
   ]
  },
  {
   "cell_type": "markdown",
   "metadata": {},
   "source": [
    "### Properties helping detection"
   ]
  },
  {
   "cell_type": "markdown",
   "metadata": {},
   "source": [
    "#### `operator`"
   ]
  },
  {
   "cell_type": "code",
   "execution_count": 25,
   "metadata": {},
   "outputs": [
    {
     "data": {
      "text/plain": [
       "Conv2d(3, 64, kernel_size=(7, 7), stride=(2, 2), padding=(3, 3), bias=False)"
      ]
     },
     "execution_count": 25,
     "metadata": {},
     "output_type": "execute_result"
    }
   ],
   "source": [
    "# directly get the matched operator from the node\n",
    "example_node.operator"
   ]
  },
  {
   "cell_type": "code",
   "execution_count": 26,
   "metadata": {},
   "outputs": [
    {
     "data": {
      "text/plain": [
       "True"
      ]
     },
     "execution_count": 26,
     "metadata": {},
     "output_type": "execute_result"
    }
   ],
   "source": [
    "# definitely same as one from model\n",
    "operator_from_model = resnet\n",
    "for t in example_node.target.split(\".\"):\n",
    "    operator_from_model = getattr(operator_from_model, t)\n",
    "\n",
    "operator_from_model is example_node.operator"
   ]
  },
  {
   "cell_type": "code",
   "execution_count": 27,
   "metadata": {},
   "outputs": [
    {
     "data": {
      "text/plain": [
       "[NodeInfo(opcode='call_module', name='maxpool', target='maxpool'),\n",
       " NodeInfo(opcode='call_module', name='avgpool', target='avgpool')]"
      ]
     },
     "execution_count": 27,
     "metadata": {},
     "output_type": "execute_result"
    }
   ],
   "source": [
    "# detection example using node.operator\n",
    "\n",
    "pool_filter = lambda n: (\n",
    "    n.opcode == \"call_module\"\n",
    "    and n.operator.__module__ == \"torch.nn.modules.pooling\"\n",
    ")\n",
    "ma_resnet.find_node(pool_filter, all=True)"
   ]
  },
  {
   "cell_type": "markdown",
   "metadata": {},
   "source": [
    "#### `owning_module -> Optional[Tuple[str, nn.Module]]`"
   ]
  },
  {
   "cell_type": "markdown",
   "metadata": {},
   "source": [
    "Get a module and name owning the node"
   ]
  },
  {
   "cell_type": "code",
   "execution_count": 28,
   "metadata": {},
   "outputs": [
    {
     "data": {
      "text/plain": [
       "('conv1',\n",
       " Conv2d(3, 64, kernel_size=(7, 7), stride=(2, 2), padding=(3, 3), bias=False))"
      ]
     },
     "execution_count": 28,
     "metadata": {},
     "output_type": "execute_result"
    }
   ],
   "source": [
    "# If node.opcode == \"call_module\", its owning module is the operator itself.\n",
    "example_node.owning_module"
   ]
  },
  {
   "cell_type": "code",
   "execution_count": 29,
   "metadata": {},
   "outputs": [
    {
     "name": "stdout",
     "output_type": "stream",
     "text": [
      "True\n",
      "True\n"
     ]
    }
   ],
   "source": [
    "print(example_node.target == example_node.owning_module[0])\n",
    "print(example_node.operator == example_node.owning_module[1])"
   ]
  },
  {
   "cell_type": "code",
   "execution_count": 30,
   "metadata": {},
   "outputs": [
    {
     "data": {
      "text/plain": [
       "('layer1.0',\n",
       " Module(\n",
       "   (conv1): Conv2d(64, 64, kernel_size=(3, 3), stride=(1, 1), padding=(1, 1), bias=False)\n",
       "   (bn1): BatchNorm2d(64, eps=1e-05, momentum=0.1, affine=True, track_running_stats=True)\n",
       "   (relu): ReLU(inplace=True)\n",
       "   (conv2): Conv2d(64, 64, kernel_size=(3, 3), stride=(1, 1), padding=(1, 1), bias=False)\n",
       "   (bn2): BatchNorm2d(64, eps=1e-05, momentum=0.1, affine=True, track_running_stats=True)\n",
       " ))"
      ]
     },
     "execution_count": 30,
     "metadata": {},
     "output_type": "execute_result"
    }
   ],
   "source": [
    "# If node.opcode == \"call_function\", it shows which module is containing the operator function.\n",
    "func_node = ma_resnet.get_node(\"add\")\n",
    "func_node.owning_module"
   ]
  },
  {
   "cell_type": "code",
   "execution_count": 31,
   "metadata": {},
   "outputs": [
    {
     "name": "stdout",
     "output_type": "stream",
     "text": [
      "operator.add\n",
      "<built-in function add>\n"
     ]
    }
   ],
   "source": [
    "# (node.target, node.operator) is totally different from `owning_module`\n",
    "print(func_node.target)\n",
    "print(func_node.operator)"
   ]
  },
  {
   "cell_type": "markdown",
   "metadata": {},
   "source": [
    "### Converting data structure"
   ]
  },
  {
   "cell_type": "code",
   "execution_count": 32,
   "metadata": {},
   "outputs": [
    {
     "data": {
      "text/plain": [
       "{'opcode': 'call_module', 'name': 'conv1', 'target': 'conv1'}"
      ]
     },
     "execution_count": 32,
     "metadata": {},
     "output_type": "execute_result"
    }
   ],
   "source": [
    "# to dictionary\n",
    "example_node.to_dict()"
   ]
  },
  {
   "cell_type": "code",
   "execution_count": 33,
   "metadata": {},
   "outputs": [
    {
     "data": {
      "text/plain": [
       "{'opcode': 'call_function', 'name': 'add', 'target': 'operator.add'}"
      ]
     },
     "execution_count": 33,
     "metadata": {},
     "output_type": "execute_result"
    }
   ],
   "source": [
    "func_node.to_dict()"
   ]
  },
  {
   "cell_type": "markdown",
   "metadata": {},
   "source": [
    "## Example: GradCAM"
   ]
  },
  {
   "cell_type": "code",
   "execution_count": 34,
   "metadata": {},
   "outputs": [
    {
     "data": {
      "text/plain": [
       "tensor([[[[0.0561, 0.0550, 0.0563, 0.0557, 0.0578, 0.0479, 0.0391],\n",
       "          [0.0893, 0.0940, 0.0961, 0.1078, 0.1153, 0.0864, 0.0563],\n",
       "          [0.0915, 0.1082, 0.1221, 0.1191, 0.1151, 0.0974, 0.0728],\n",
       "          [0.0953, 0.1204, 0.1017, 0.0955, 0.0985, 0.0807, 0.0548],\n",
       "          [0.0856, 0.1008, 0.1039, 0.1026, 0.1004, 0.0846, 0.0578],\n",
       "          [0.0855, 0.0901, 0.1019, 0.1059, 0.0977, 0.0781, 0.0526],\n",
       "          [0.0545, 0.0746, 0.0666, 0.0717, 0.0683, 0.0714, 0.0493]]]],\n",
       "       grad_fn=<SumBackward1>)"
      ]
     },
     "execution_count": 34,
     "metadata": {},
     "output_type": "execute_result"
    }
   ],
   "source": [
    "import torch\n",
    "from captum.attr import LayerGradCam\n",
    "\n",
    "inputs = torch.randn(1, 3, 224, 224)\n",
    "\n",
    "target = resnet(inputs).argmax(1).item()\n",
    "cam_tgt_nm, cam_tgt_mod = ma_resnet.find_cam_target_module()\n",
    "explainer = LayerGradCam(resnet, layer=cam_tgt_mod) # here\n",
    "attrs = explainer.attribute(inputs, target=target)\n",
    "attrs"
   ]
  },
  {
   "cell_type": "markdown",
   "metadata": {},
   "source": [
    "## Example: LRP"
   ]
  },
  {
   "cell_type": "code",
   "execution_count": 35,
   "metadata": {},
   "outputs": [
    {
     "data": {
      "text/plain": [
       "tensor([[[[1.0107e-03, 1.5427e-03, 1.2988e-03,  ..., 3.6572e-05,\n",
       "           1.3705e-05, 8.6201e-06],\n",
       "          [1.2498e-03, 1.6644e-03, 1.5210e-03,  ..., 2.9877e-05,\n",
       "           1.0165e-05, 1.3933e-05],\n",
       "          [1.3658e-03, 1.3569e-03, 1.6763e-03,  ..., 3.8471e-05,\n",
       "           1.3477e-05, 1.1588e-05],\n",
       "          ...,\n",
       "          [5.0055e-05, 6.1396e-05, 6.7468e-05,  ..., 1.5492e-05,\n",
       "           1.4921e-05, 1.2674e-05],\n",
       "          [1.4413e-05, 2.1118e-05, 3.6859e-05,  ..., 1.3347e-05,\n",
       "           5.0072e-06, 4.1874e-06],\n",
       "          [1.4605e-05, 2.5482e-05, 2.8178e-05,  ..., 1.1906e-05,\n",
       "           4.5209e-06, 3.5785e-06]],\n",
       "\n",
       "         [[1.0090e-03, 1.4876e-03, 1.1762e-03,  ..., 1.8069e-05,\n",
       "           1.0676e-05, 8.1778e-06],\n",
       "          [1.3539e-03, 2.9663e-03, 2.0740e-03,  ..., 4.6878e-05,\n",
       "           1.5746e-05, 1.9380e-05],\n",
       "          [1.0943e-03, 1.6252e-03, 1.5074e-03,  ..., 4.3538e-05,\n",
       "           1.0312e-05, 7.5514e-06],\n",
       "          ...,\n",
       "          [5.4181e-05, 7.2769e-05, 6.7374e-05,  ..., 1.8367e-05,\n",
       "           8.0196e-06, 1.0985e-05],\n",
       "          [1.4996e-05, 2.7049e-05, 3.2659e-05,  ..., 1.0447e-05,\n",
       "           8.0285e-06, 4.7362e-06],\n",
       "          [1.4769e-05, 2.9598e-05, 2.2826e-05,  ..., 9.4725e-06,\n",
       "           4.7393e-06, 5.8289e-06]],\n",
       "\n",
       "         [[9.0071e-04, 1.0618e-03, 9.1568e-04,  ..., 3.3199e-05,\n",
       "           1.2502e-05, 9.6279e-06],\n",
       "          [1.6138e-03, 1.8033e-03, 1.4239e-03,  ..., 3.5496e-05,\n",
       "           1.2067e-05, 1.2111e-05],\n",
       "          [1.1913e-03, 1.8976e-03, 1.5615e-03,  ..., 4.0800e-05,\n",
       "           1.3322e-05, 1.1886e-05],\n",
       "          ...,\n",
       "          [4.6832e-05, 5.7553e-05, 4.9850e-05,  ..., 2.8071e-05,\n",
       "           9.6199e-06, 9.9145e-06],\n",
       "          [1.9654e-05, 2.9307e-05, 1.7821e-05,  ..., 1.9102e-05,\n",
       "           4.6812e-06, 5.7540e-06],\n",
       "          [2.0327e-05, 2.4778e-05, 2.6127e-05,  ..., 1.0520e-05,\n",
       "           5.8880e-06, 3.8082e-06]]]])"
      ]
     },
     "execution_count": 35,
     "metadata": {},
     "output_type": "execute_result"
    }
   ],
   "source": [
    "from zennit.composites import EpsilonGammaBox\n",
    "from zennit.canonizers import SequentialMergeBatchNorm\n",
    "from zennit.attribution import Gradient\n",
    "\n",
    "canonizers = [SequentialMergeBatchNorm()]\n",
    "composite = EpsilonGammaBox(low=-3., high=3., canonizers=canonizers)\n",
    "\n",
    "with Gradient(model=resnet, composite=composite) as attributor:\n",
    "    _, attrs = attributor(inputs, torch.eye(1000)[[0]])\n",
    "\n",
    "attrs"
   ]
  },
  {
   "cell_type": "markdown",
   "metadata": {},
   "source": [
    "## Example: RAP"
   ]
  },
  {
   "cell_type": "markdown",
   "metadata": {},
   "source": [
    "**1. hook is working with `node.operator` if `node.opcode==\"call_module\"`!**"
   ]
  },
  {
   "cell_type": "code",
   "execution_count": 36,
   "metadata": {},
   "outputs": [
    {
     "name": "stdout",
     "output_type": "stream",
     "text": [
      "Conv2d is hooked!\n"
     ]
    }
   ],
   "source": [
    "def test_hook(m, x, y):\n",
    "    # some rule assignment by register hook\n",
    "    # if not hasattr(m, \"rule\"): m.rule = rule\n",
    "    print(f\"{m.__class__.__name__} is hooked!\")\n",
    "    \n",
    "hook_handles = [example_node.operator.register_forward_hook(test_hook)]\n",
    "_ = resnet(inputs) # forward pass\n",
    "\n",
    "# remove hooks\n",
    "for h in hook_handles:\n",
    "    h.remove()"
   ]
  },
  {
   "cell_type": "markdown",
   "metadata": {},
   "source": [
    "**[EXPERIMENTAL] To control residual connection, convert `add` function to `Add` module and register hook.**"
   ]
  },
  {
   "cell_type": "code",
   "execution_count": 37,
   "metadata": {},
   "outputs": [
    {
     "name": "stdout",
     "output_type": "stream",
     "text": [
      "---hook for converted module works only in the traced model---\n",
      "MaxPool2d is hooked!\n",
      "Add() is hooked!\n",
      "Add() is hooked!\n",
      "Add() is hooked!\n",
      "Add() is hooked!\n",
      "Add() is hooked!\n",
      "Add() is hooked!\n",
      "Add() is hooked!\n",
      "Add() is hooked!\n",
      "AdaptiveAvgPool2d is hooked!\n",
      "\n",
      "---hook for converted module is not registered in the original model---\n",
      "MaxPool2d is hooked!\n",
      "AdaptiveAvgPool2d is hooked!\n"
     ]
    }
   ],
   "source": [
    "from _operator import add\n",
    "from torch import nn\n",
    "from torch.fx import GraphModule, symbolic_trace\n",
    "\n",
    "# ./detector/converted_modules.py\n",
    "class Add(nn.Module):\n",
    "    def __init__(self):\n",
    "        super().__init__()\n",
    "\n",
    "    def forward(self, a, b):\n",
    "        return torch.add(a, b)\n",
    "\n",
    "# ./detector/utils.py or model architecture's method\n",
    "def convert_add_func_to_mod(ma):\n",
    "    for n in ma.graph.nodes:\n",
    "        if n.target is add:\n",
    "            if not hasattr(ma.graph.owning_module, \"_add_converted\"):\n",
    "                # ma.graph.owning_module._add_converted = Add()\n",
    "                setattr(ma.graph.owning_module, \"_add_converted\", Add())\n",
    "            with ma.graph.inserting_after(n):\n",
    "                new_node = ma.graph.call_module(\"_add_converted\", n.args, n.kwargs)\n",
    "                n.replace_all_uses_with(new_node)\n",
    "            ma.graph.erase_node(n)\n",
    "    ma.graph.lint()\n",
    "    ma.graph.owning_module.recompile()\n",
    "    return ma\n",
    "\n",
    "# register hook\n",
    "ma_resnet = convert_add_func_to_mod(ma_resnet)\n",
    "\n",
    "def add_hook(m, x, y):\n",
    "    print(f\"{m} is hooked!\")\n",
    "\n",
    "hook_handles = [\n",
    "    n.operator.register_forward_hook(add_hook) for n in ma_resnet.list_nodes()\n",
    "    if n.name == \"_add_converted\"\n",
    "]\n",
    "\n",
    "hook_handles += [\n",
    "    n.operator.register_forward_hook(test_hook) for n in ma_resnet.list_nodes()\n",
    "    if n.opcode == \"call_module\" and n.operator.__module__ == \"torch.nn.modules.pooling\"\n",
    "]\n",
    "\n",
    "print(\"---hook for converted module works only in the traced model---\")\n",
    "_ = ma_resnet.graph.owning_module(inputs)\n",
    "\n",
    "print(\"\\n---hook for converted module is not registered in the original model---\")\n",
    "resnet(inputs)\n",
    "for h in hook_handles:\n",
    "    h.remove()\n",
    "# resnet(inputs)"
   ]
  }
 ],
 "metadata": {
  "kernelspec": {
   "display_name": ".venv",
   "language": "python",
   "name": "python3"
  },
  "language_info": {
   "codemirror_mode": {
    "name": "ipython",
    "version": 3
   },
   "file_extension": ".py",
   "mimetype": "text/x-python",
   "name": "python",
   "nbconvert_exporter": "python",
   "pygments_lexer": "ipython3",
   "version": "3.10.12"
  }
 },
 "nbformat": 4,
 "nbformat_minor": 2
}
