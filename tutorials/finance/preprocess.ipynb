{
 "cells": [
  {
   "cell_type": "markdown",
   "metadata": {},
   "source": [
    "# PnP XAI for finance task"
   ]
  },
  {
   "cell_type": "markdown",
   "metadata": {},
   "source": [
    "## Basic Setting"
   ]
  },
  {
   "cell_type": "code",
   "execution_count": 1,
   "metadata": {},
   "outputs": [],
   "source": [
    "# !pip install kaggle\n",
    "# !pip install xgboost"
   ]
  },
  {
   "cell_type": "code",
   "execution_count": 2,
   "metadata": {},
   "outputs": [],
   "source": [
    "import os"
   ]
  },
  {
   "cell_type": "code",
   "execution_count": 3,
   "metadata": {},
   "outputs": [],
   "source": [
    "path = \"data/baf/raw/Base.csv\"\n",
    "if not os.path.exists(path):\n",
    "    print(\"Downloading the dataset...\")\n",
    "    try:\n",
    "        os.makedirs(\"data/baf/raw\")\n",
    "    except FileExistsError:\n",
    "        pass\n",
    "    os.system(\"kaggle datasets download -d sgpjesus/bank-account-fraud-dataset-neurips-2022 -p data/baf/raw\")\n",
    "    os.system(\"unzip data/baf/raw/bank-account-fraud-dataset-neurips-2022.zip -d data/baf/raw\")\n",
    "    os.system(\"rm data/baf/raw/bank-account-fraud-dataset-neurips-2022.zip\")"
   ]
  },
  {
   "cell_type": "code",
   "execution_count": 4,
   "metadata": {},
   "outputs": [
    {
     "name": "stderr",
     "output_type": "stream",
     "text": [
      "/home/cwl/miniconda3/envs/pnpenv/lib/python3.10/site-packages/xgboost/core.py:265: FutureWarning: Your system has an old version of glibc (< 2.28). We will stop supporting Linux distros with glibc older than 2.28 after **May 31, 2025**. Please upgrade to a recent Linux distro (with glibc 2.28+) to use future versions of XGBoost.\n",
      "Note: You have installed the 'manylinux2014' variant of XGBoost. Certain features such as GPU algorithms or federated learning are not available. To use these features, please upgrade to a recent Linux distro with glibc 2.28+, and install the 'manylinux_2_28' variant.\n",
      "  warnings.warn(\n"
     ]
    }
   ],
   "source": [
    "import torch\n",
    "import numpy as np\n",
    "import pandas as pd\n",
    "import pickle\n",
    "from sklearn.preprocessing import StandardScaler, OneHotEncoder\n",
    "from sklearn.model_selection import train_test_split\n",
    "\n",
    "import xgboost\n"
   ]
  },
  {
   "cell_type": "code",
   "execution_count": 5,
   "metadata": {},
   "outputs": [],
   "source": [
    "raw_data = pd.read_csv(path)"
   ]
  },
  {
   "cell_type": "code",
   "execution_count": 6,
   "metadata": {},
   "outputs": [
    {
     "data": {
      "text/plain": [
       "array([0, 1, 2, 3, 4, 5, 6, 7])"
      ]
     },
     "execution_count": 6,
     "metadata": {},
     "output_type": "execute_result"
    }
   ],
   "source": [
    "raw_data['month'].unique()"
   ]
  },
  {
   "cell_type": "code",
   "execution_count": 7,
   "metadata": {},
   "outputs": [],
   "source": [
    "train_data = raw_data[raw_data['month'] < 5]\n",
    "valid_data = raw_data[(raw_data['month'] >= 5) & ((raw_data['month'] < 6))]\n",
    "test_data = raw_data[raw_data['month'] >= 6]"
   ]
  },
  {
   "cell_type": "code",
   "execution_count": 8,
   "metadata": {},
   "outputs": [
    {
     "data": {
      "text/plain": [
       "(0.009975342846909568, 0.01182504630289215, 0.014038271117159567)"
      ]
     },
     "execution_count": 8,
     "metadata": {},
     "output_type": "execute_result"
    }
   ],
   "source": [
    "train_data['fraud_bool'].sum() / len(train_data), valid_data['fraud_bool'].sum() / len(valid_data), test_data['fraud_bool'].sum() / len(test_data)"
   ]
  },
  {
   "cell_type": "code",
   "execution_count": 9,
   "metadata": {},
   "outputs": [],
   "source": [
    "n_sample = 20000\n",
    "tmp = train_data[train_data['fraud_bool'] == 0].sample(n_sample, random_state=42)\n",
    "train_data = pd.concat([train_data[train_data['fraud_bool'] == 1], tmp])\n",
    "\n",
    "n_sample = 5000\n",
    "tmp = valid_data[valid_data['fraud_bool'] == 0].sample(n_sample, random_state=42)\n",
    "valid_data = pd.concat([valid_data[valid_data['fraud_bool'] == 1], tmp])\n",
    "\n",
    "n_sample = 5000\n",
    "tmp = test_data[test_data['fraud_bool'] == 0].sample(n_sample, random_state=42)\n",
    "test_data = pd.concat([test_data[test_data['fraud_bool'] == 1], tmp])"
   ]
  },
  {
   "cell_type": "code",
   "execution_count": 10,
   "metadata": {},
   "outputs": [],
   "source": [
    "if not os.path.exists(\"data/baf/preprocess\"):\n",
    "    os.makedirs(\"data/baf/preprocess\")\n",
    "\n",
    "train_data.to_csv(\"data/baf/preprocess/train.csv\")\n",
    "valid_data.to_csv(\"data/baf/preprocess/valid.csv\")\n",
    "test_data.to_csv(\"data/baf/preprocess/test.csv\")"
   ]
  },
  {
   "cell_type": "markdown",
   "metadata": {},
   "source": [
    "# Preprocess"
   ]
  },
  {
   "cell_type": "code",
   "execution_count": 11,
   "metadata": {},
   "outputs": [],
   "source": [
    "std_scaler = StandardScaler()\n",
    "ohe = OneHotEncoder()\n",
    "\n",
    "X_train = train_data.drop(columns=['fraud_bool', 'month'])\n",
    "y_train = train_data['fraud_bool']\n",
    "\n",
    "X_valid = valid_data.drop(columns=['fraud_bool', 'month'])\n",
    "y_valid = valid_data['fraud_bool']\n",
    "\n",
    "X_test = test_data.drop(columns=['fraud_bool', 'month'])\n",
    "y_test = test_data['fraud_bool']\n",
    "\n",
    "float_cols = X_train.select_dtypes(include=[float, int]).columns\n",
    "X_train[float_cols] = std_scaler.fit_transform(X_train[float_cols])\n",
    "X_valid[float_cols] = std_scaler.transform(X_valid[float_cols])\n",
    "X_test[float_cols] = std_scaler.transform(X_test[float_cols])\n",
    "\n",
    "cat_cols = X_train.select_dtypes(include=['object', int]).columns\n",
    "X_train_cat = ohe.fit_transform(X_train[cat_cols])\n",
    "X_valid_cat = ohe.transform(X_valid[cat_cols])\n",
    "X_test_cat = ohe.transform(X_test[cat_cols])\n",
    "\n",
    "X_train = np.concatenate([X_train.drop(columns=cat_cols).values, X_train_cat.toarray()], axis=1)\n",
    "X_valid = np.concatenate([X_valid.drop(columns=cat_cols).values, X_valid_cat.toarray()], axis=1)\n",
    "X_test = np.concatenate([X_test.drop(columns=cat_cols).values, X_test_cat.toarray()], axis=1)\n",
    "\n",
    "# Save the preprocessed data\n",
    "np.save(\"data/baf/preprocess/X_train.npy\", X_train)\n",
    "np.save(\"data/baf/preprocess/y_train.npy\", y_train)\n",
    "np.save(\"data/baf/preprocess/X_valid.npy\", X_valid)\n",
    "np.save(\"data/baf/preprocess/y_valid.npy\", y_valid)\n",
    "np.save(\"data/baf/preprocess/X_test.npy\", X_test)\n",
    "np.save(\"data/baf/preprocess/y_test.npy\", y_test)\n"
   ]
  },
  {
   "cell_type": "code",
   "execution_count": 12,
   "metadata": {},
   "outputs": [],
   "source": [
    "metadata = {\n",
    "    'float_cols': float_cols,\n",
    "    'cat_cols': {col: ohe.categories_[i].tolist() for i, col in enumerate(cat_cols)},\n",
    "    'std_scaler': std_scaler,\n",
    "    'ohe': ohe\n",
    "}"
   ]
  },
  {
   "cell_type": "code",
   "execution_count": 13,
   "metadata": {},
   "outputs": [],
   "source": [
    "with open(\"data/baf/preprocess/metadata.pkl\", 'wb') as f:\n",
    "    pickle.dump(metadata, f)"
   ]
  },
  {
   "cell_type": "code",
   "execution_count": 14,
   "metadata": {},
   "outputs": [],
   "source": [
    "# Load the preprocessed data\n",
    "X_train = np.load(\"data/baf/preprocess/X_train.npy\")\n",
    "y_train = np.load(\"data/baf/preprocess/y_train.npy\")\n",
    "X_valid = np.load(\"data/baf/preprocess/X_valid.npy\")\n",
    "y_valid = np.load(\"data/baf/preprocess/y_valid.npy\")\n",
    "\n",
    "with open(\"data/baf/preprocess/metadata.pkl\", 'rb') as f:\n",
    "    metadata = pickle.load(f)"
   ]
  },
  {
   "cell_type": "code",
   "execution_count": null,
   "metadata": {},
   "outputs": [],
   "source": []
  },
  {
   "cell_type": "code",
   "execution_count": null,
   "metadata": {},
   "outputs": [],
   "source": []
  }
 ],
 "metadata": {
  "kernelspec": {
   "display_name": "pnpenv",
   "language": "python",
   "name": "python3"
  },
  "language_info": {
   "codemirror_mode": {
    "name": "ipython",
    "version": 3
   },
   "file_extension": ".py",
   "mimetype": "text/x-python",
   "name": "python",
   "nbconvert_exporter": "python",
   "pygments_lexer": "ipython3",
   "version": "3.10.13"
  }
 },
 "nbformat": 4,
 "nbformat_minor": 2
}
